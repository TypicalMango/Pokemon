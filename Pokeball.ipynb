{
 "cells": [
  {
   "cell_type": "code",
   "execution_count": null,
   "id": "390bf327-e5bd-4cd3-afff-f7feeb906ca0",
   "metadata": {},
   "outputs": [],
   "source": [
    "import turtle\n",
    "\n",
    "screen = turtle.Screen()\n",
    "screen.bgcolor(\"white\")\n",
    "screen.title(\"Pokeball Shape\")\n",
    "\n",
    "pen = turtle.Turtle()\n",
    "pen.speed(0)\n",
    "pen.hideturtle()\n",
    "pen.color(\"black\", \"white\")\n",
    "pen.pensize(3)\n",
    "pen.begin_fill()\n",
    "\n",
    "pen.setpos(0, 0)\n",
    "pen.circle(100)\n",
    "\n",
    "pen.penup()\n",
    "pen.setpos(100, 100)\n",
    "pen.left(90)\n",
    "pen.pendown()\n",
    "pen.color(\"red\")\n",
    "pen.begin_fill()\n",
    "pen.circle(100, 180)\n",
    "pen.end_fill()\n",
    "\n",
    "pen.penup()\n",
    "pen.right(90)\n",
    "pen.setpos(0, 120)\n",
    "pen.pendown()\n",
    "pen.color(\"black\")\n",
    "pen.begin_fill()\n",
    "pen.circle(20)\n",
    "pen.end_fill()\n",
    "\n",
    "pen.penup()\n",
    "pen.goto(0, -150)\n",
    "pen.write(\"Pokemon\", align=\"center\", font=(\"Arial\", 16, \"normal\"))\n",
    "screen.mainloop()"
   ]
  },
  {
   "cell_type": "code",
   "execution_count": null,
   "id": "a0d89d29-b2f6-433f-9ae1-7c0dafd1743d",
   "metadata": {},
   "outputs": [],
   "source": []
  }
 ],
 "metadata": {
  "kernelspec": {
   "display_name": "Python 3 (ipykernel)",
   "language": "python",
   "name": "python3"
  },
  "language_info": {
   "codemirror_mode": {
    "name": "ipython",
    "version": 3
   },
   "file_extension": ".py",
   "mimetype": "text/x-python",
   "name": "python",
   "nbconvert_exporter": "python",
   "pygments_lexer": "ipython3",
   "version": "3.10.7"
  }
 },
 "nbformat": 4,
 "nbformat_minor": 5
}
